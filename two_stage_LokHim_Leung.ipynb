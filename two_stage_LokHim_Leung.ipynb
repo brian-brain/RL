{
 "cells": [
  {
   "cell_type": "markdown",
   "id": "d75c0957",
   "metadata": {},
   "source": [
    "# Decision making under uncertainty"
   ]
  },
  {
   "cell_type": "markdown",
   "id": "59fa1d70",
   "metadata": {},
   "source": [
    "In this lecture, you learned about how the Markov decision process (MDP) framework can be extended to allow uncertainty about the states. This can be used to model a wide range of decision-making problems where there is uncertainty or noise associated with the state of the world.\n",
    "\n",
    "We considered the example of the random dot motion discrimination task, where a subject must indicate the direction in which the majority of dots are moving. In this assignment, you will solve a two-stage formulation of this task, where the decision-maker can either make an immediate decision (i.e., at the first stage) on the basis of initial information, or choose to wait and gather further information before making their choice (i.e., at the second stage). The complete description of the problem can be found in the lecture slides and also in the original paper: http://www.gatsby.ucl.ac.uk/~dayan/papers/NDM002wc.pdf\n",
    "\n",
    "Your task is to reproduce the plots from Figure 9 of the paper, interpret the results, and explain the steps of the solution."
   ]
  },
  {
   "cell_type": "code",
   "execution_count": 1,
   "id": "674afc92",
   "metadata": {},
   "outputs": [],
   "source": [
    "import numpy as np\n",
    "import matplotlib.pyplot as plt\n",
    "from scipy.stats import norm"
   ]
  },
  {
   "cell_type": "markdown",
   "id": "258c9a53",
   "metadata": {},
   "source": [
    "## 0. Define the parameters of the model (0.5 pts)"
   ]
  },
  {
   "cell_type": "code",
   "execution_count": 2,
   "id": "83efb985",
   "metadata": {},
   "outputs": [],
   "source": [
    "# INSERT CODE HERE\n",
    "u1 = 4\n",
    "u2 = 6\n",
    "stdev = 1\n",
    "pr_1 = 0.5\n",
    "pr_2 = 0.5\n",
    "punishment = -0.1"
   ]
  },
  {
   "cell_type": "markdown",
   "id": "a054a333",
   "metadata": {},
   "source": [
    "## 1. Updating the belief state  (2.5 pts)\n",
    "The actual direction of motion ('state') is not completely observable to the subject. Hence, the subject can only rely on observations to compute the *belief* that the direction of motion is left or right (this is the posterior probability or 'belief state'). "
   ]
  },
  {
   "cell_type": "markdown",
   "id": "469a4601",
   "metadata": {},
   "source": [
    "### 1a. Write a function that will calculate this posterior given the prior belief and an observation (the belief update). (0.5 pt)"
   ]
  },
  {
   "cell_type": "code",
   "execution_count": 3,
   "id": "2b6003ee",
   "metadata": {},
   "outputs": [],
   "source": [
    "# INSERT CODE BELOW\n",
    "\n",
    "def belief_state(prior1, prior2, observation):\n",
    "    l_ca = norm.pdf(observation, u1, stdev)/norm.pdf(observation,u2,stdev)\n",
    "    bs = 1/(1+(1/l_ca)*(prior1/prior2))\n",
    "\n",
    "    return bs\n"
   ]
  },
  {
   "cell_type": "markdown",
   "id": "04e6c533",
   "metadata": {},
   "source": [
    "### 1b. Use this function to update the belief on the first observation at step $\\beta$ and reproduce Fig 9A.  Interpret the plot. (1 pt)"
   ]
  },
  {
   "cell_type": "code",
   "execution_count": 4,
   "id": "eb7ef835",
   "metadata": {},
   "outputs": [],
   "source": [
    "# INSERT CODE BELOW\n",
    "\n",
    "#Pick a random state\n",
    "start = np.random.choice(u1,u2)\n",
    "obs_1 = np.arange(0,10,0.5)\n",
    "b_states_1 = np.zeros(len(obs_1))\n",
    "b_states_2 = np.zeros(len(obs_1))\n",
    "for indices, obs in enumerate(obs_1):\n",
    "    b_states_1[indices] = belief_state(pr_1,pr_2,obs)\n",
    "b_states_2 = 1 - b_states_1\n",
    "\n"
   ]
  },
  {
   "cell_type": "code",
   "execution_count": 5,
   "id": "76de320d",
   "metadata": {},
   "outputs": [
    {
     "data": {
      "text/plain": [
       "[<matplotlib.lines.Line2D at 0x1a93f966cd0>]"
      ]
     },
     "execution_count": 5,
     "metadata": {},
     "output_type": "execute_result"
    },
    {
     "data": {
      "image/png": "[encoded data removed]",
      "text/plain": [
       "<Figure size 400x400 with 1 Axes>"
      ]
     },
     "metadata": {},
     "output_type": "display_data"
    }
   ],
   "source": [
    "plt.figure(figsize=(4,4))\n",
    "plt.plot(obs_1,b_states_1,linestyle='--')\n",
    "plt.plot(obs_1,b_states_2,linestyle='--')"
   ]
  },
  {
   "cell_type": "markdown",
   "id": "3b0561b6",
   "metadata": {},
   "source": [
    "INSERT ANSWER BELOW"
   ]
  },
  {
   "cell_type": "markdown",
   "id": "f7427919",
   "metadata": {},
   "source": [
    "At small observations, the belief state x1 is larger than that of x2, and vice versa for large observations. This is a simple consequence of P(c|x1) outweighing P(c|x2) (i.e. 1/l_c1 is small) at smaller observations, and decreases as the observation magnitude increases. "
   ]
  },
  {
   "cell_type": "markdown",
   "id": "939f6949",
   "metadata": {},
   "source": [
    "### 1c. Write a function to update the belief on observing another sample at step $\\alpha$ and reproduce Fig 9B.  Interpret the plot. (1 pt)\n",
    "Hint: You will have to calculate this probability for every possible pair of observations."
   ]
  },
  {
   "cell_type": "code",
   "execution_count": 6,
   "id": "4df4ce88",
   "metadata": {},
   "outputs": [],
   "source": [
    "#INSERT CODE BELOW\n",
    "obs_2 = np.copy(obs_1)\n",
    "two_obs_belief_1 = np.zeros((len(obs_1),len(obs_2)))\n",
    "two_obs_belief_2 = np.zeros((len(obs_1),len(obs_2)))\n",
    "for i, obs in enumerate(obs_2):\n",
    "    two_obs_belief_1[i,:] = norm.pdf(obs,u1,stdev) * b_states_1\n",
    "    two_obs_belief_2[i,:] = norm.pdf(obs,u2,stdev) * b_states_2\n",
    "    two_obs_belief_1[i,:] = two_obs_belief_1[i,:] / (two_obs_belief_2[i,:]+two_obs_belief_1[i,:])\n",
    "    two_obs_belief_2[i,:] = 1 - two_obs_belief_1[i,:]\n",
    "\n",
    "\n",
    "\n",
    "\n"
   ]
  },
  {
   "cell_type": "code",
   "execution_count": 7,
   "id": "26ef8e72",
   "metadata": {},
   "outputs": [
    {
     "data": {
      "text/plain": [
       "<matplotlib.colorbar.Colorbar at 0x1a941a426a0>"
      ]
     },
     "execution_count": 7,
     "metadata": {},
     "output_type": "execute_result"
    },
    {
     "data": {
      "image/png": "[encoded data removed]",
      "text/plain": [
       "<Figure size 640x480 with 2 Axes>"
      ]
     },
     "metadata": {},
     "output_type": "display_data"
    }
   ],
   "source": [
    "plt.imshow(two_obs_belief_1)\n",
    "plt.xticks(ticks=(0,10,19),labels=(0,5,10))\n",
    "plt.ylim(0,19)\n",
    "plt.yticks(ticks=(0,10,19),labels=(0,5,10))\n",
    "plt.colorbar()"
   ]
  },
  {
   "cell_type": "markdown",
   "id": "23c38a31",
   "metadata": {},
   "source": [
    "INSERT ANSWER BELOW"
   ]
  },
  {
   "cell_type": "markdown",
   "id": "ab986459",
   "metadata": {},
   "source": [
    "The belief state depends on the mean of the observations. On the diagonal are observations with mean 5, which is has the same difference from the means of the two states and therefore is the most uncertain. The further away from the diaognals the more the mean diverges away from 5, leading to more certain belif states."
   ]
  },
  {
   "cell_type": "markdown",
   "id": "ac26df74",
   "metadata": {},
   "source": [
    "## 2. Solving for the optimal actions (7 pts)\n",
    "Now that we have a way to update the belief states, we can use them to determine the best course of action at each of the steps (the 'optimal policy'). "
   ]
  },
  {
   "cell_type": "markdown",
   "id": "eaf6d94c",
   "metadata": {},
   "source": [
    "### 2a. When finding the optimal policy, why does it make sense to calculate the best action at the final stage $\\alpha$, and work backwards? (1 pt)"
   ]
  },
  {
   "cell_type": "markdown",
   "id": "5506e7b5",
   "metadata": {},
   "source": [
    "INSERT ANSWER BELOW"
   ]
  },
  {
   "cell_type": "markdown",
   "id": "dd51fbbb",
   "metadata": {},
   "source": [
    "This is because the initial choice values depend on the choice values in the later step. Hence, working out the best action in the later stage informs the earlier stage. "
   ]
  },
  {
   "cell_type": "markdown",
   "id": "6197ff8e",
   "metadata": {},
   "source": [
    "### 2b. Write a function that will calculate the value of the best action at $\\alpha$ and reproduce Fig 9C. Explain what the plot shows. (1 pt)"
   ]
  },
  {
   "cell_type": "code",
   "execution_count": 8,
   "id": "2084ad75",
   "metadata": {},
   "outputs": [],
   "source": [
    "# INSERT CODE BELOW\n",
    "#Value = max probability out given both obs \n",
    "def alpha_action_value(bf_1, bf_2):\n",
    "    val = np.max([bf_1,bf_2])\n",
    "    return val\n",
    "\n"
   ]
  },
  {
   "cell_type": "code",
   "execution_count": 9,
   "id": "c2ecd968",
   "metadata": {},
   "outputs": [],
   "source": [
    "values_alpha = np.zeros(np.shape(two_obs_belief_1))\n",
    "for indices, obs in enumerate(obs_1):\n",
    "    for indices2, obs2 in enumerate(obs_2):\n",
    "        values_alpha[indices,indices2] = alpha_action_value(two_obs_belief_1[indices,indices2],two_obs_belief_2[indices,indices2])"
   ]
  },
  {
   "cell_type": "code",
   "execution_count": 12,
   "id": "f2c93651",
   "metadata": {},
   "outputs": [
    {
     "data": {
      "text/plain": [
       "([<matplotlib.axis.YTick at 0x1a941ef92e0>,\n",
       "  <matplotlib.axis.YTick at 0x1a941f16310>,\n",
       "  <matplotlib.axis.YTick at 0x1a941f59b80>],\n",
       " [Text(0, 0, '0'), Text(0, 10, '5'), Text(0, 19, '10')])"
      ]
     },
     "execution_count": 12,
     "metadata": {},
     "output_type": "execute_result"
    },
    {
     "data": {
      "image/png": "[encoded data removed]",
      "text/plain": [
       "<Figure size 640x480 with 2 Axes>"
      ]
     },
     "metadata": {},
     "output_type": "display_data"
    }
   ],
   "source": [
    "#Plot \n",
    "plt.imshow(values_alpha)\n",
    "plt.ylim(0,20)\n",
    "plt.colorbar()\n",
    "plt.ylabel(\"c_alpha\")\n",
    "plt.xlabel(\"c_beta\")\n",
    "plt.xticks(ticks=(0,10,19),labels=(0,5,10))\n",
    "plt.yticks(ticks=(0,10,19),labels=(0,5,10))\n",
    "\n"
   ]
  },
  {
   "cell_type": "markdown",
   "id": "7ae95f04",
   "metadata": {},
   "source": [
    "INSERT ANSWER BELOW"
   ]
  },
  {
   "cell_type": "markdown",
   "id": "91e3388b",
   "metadata": {},
   "source": [
    "The value is defined as the maximum of the probabilities that the agent occupies each state. The closer to the diagonal (including the diagonal), the smaller the maximal probabilities, which directly correlates to smaller values."
   ]
  },
  {
   "cell_type": "markdown",
   "id": "8961eae2",
   "metadata": {},
   "source": [
    "### 2c. Before finding the best action at $\\beta$, we have one more step to do. We need the values of the best actions at $\\alpha$ that we just calculated and the probability of observing $c_{\\alpha}$ given $c_{\\beta}$ ($P(c_{\\alpha} | c_{\\beta})$). Why? (1 pt)"
   ]
  },
  {
   "cell_type": "markdown",
   "id": "e4f7376a",
   "metadata": {},
   "source": [
    "INSERT ANSWER BELOW"
   ]
  },
  {
   "cell_type": "markdown",
   "id": "9eef9405",
   "metadata": {},
   "source": [
    "The value of action at beta depends on the value of the action at alpha, which itself depends on the observation, therefore both is required. More explicitly, we need to consider all probabilities and their corresponding action value. "
   ]
  },
  {
   "cell_type": "markdown",
   "id": "7702f664",
   "metadata": {},
   "source": [
    "### 2d. Write a function that will calculate $P(c_{\\alpha} | c_{\\beta})$ and reproduce Fig 9D. Explain how you calculated this probability and what the plot shows. (1 pt)\n",
    "Hint: You will have to marginalise the posteriors over the possible states."
   ]
  },
  {
   "cell_type": "code",
   "execution_count": 13,
   "id": "964e09dc",
   "metadata": {},
   "outputs": [],
   "source": [
    "# INSERT CODE BELOW\n",
    "def prob_ca_cb(belief_state_1,belief_state_2,obs):\n",
    "    from_state_1 = belief_state_1 * norm.pdf(obs,u1,stdev)\n",
    "    from_state_2 = belief_state_2 * norm.pdf(obs,u2,stdev)\n",
    "    pcacb = from_state_1 + from_state_2\n",
    "    return pcacb\n"
   ]
  },
  {
   "cell_type": "code",
   "execution_count": 14,
   "id": "90d142f0",
   "metadata": {},
   "outputs": [],
   "source": [
    "pcacb = np.zeros(np.shape(values_alpha))\n",
    "for indices, obs in enumerate(obs_1):\n",
    "    for indices2, obs2 in enumerate(obs_2):\n",
    "        pcacb[indices2,indices] = prob_ca_cb(b_states_1[indices],b_states_2[indices],obs_1[indices2])"
   ]
  },
  {
   "cell_type": "code",
   "execution_count": 17,
   "id": "5f6ed3b0",
   "metadata": {},
   "outputs": [
    {
     "data": {
      "text/plain": [
       "Text(0, 0.5, 'p_cb')"
      ]
     },
     "execution_count": 17,
     "metadata": {},
     "output_type": "execute_result"
    },
    {
     "data": {
      "image/png": "[encoded data removed]",
      "text/plain": [
       "<Figure size 640x480 with 1 Axes>"
      ]
     },
     "metadata": {},
     "output_type": "display_data"
    }
   ],
   "source": [
    "plt.imshow(pcacb)\n",
    "plt.ylim(0,20)\n",
    "plt.xticks(ticks=(0,10,19),labels=(0,5,10))\n",
    "plt.yticks(ticks=(0,10,19),labels=(0,5,10))\n",
    "plt.xlabel(\"p_ca\")\n",
    "plt.ylabel(\"p_cb\")\n"
   ]
  },
  {
   "cell_type": "markdown",
   "id": "bc0d77a2",
   "metadata": {},
   "source": [
    "INSERT ANSWER BELOW"
   ]
  },
  {
   "cell_type": "markdown",
   "id": "fb5a3eb9",
   "metadata": {},
   "source": [
    "This probability is basically equivalent to the probability given some observation c_beta, which state (distribution) it belongs to i.e. the belief state, and from these states how likely is c_alpha observed. "
   ]
  },
  {
   "cell_type": "markdown",
   "id": "fb2fa130",
   "metadata": {},
   "source": [
    "### 2e. We are now ready to find the best action at $\\beta$. Write a function that calculates the values associated with each of the actions and reproduce Fig 9E. What does the plot tell you about what the best action is at $\\beta$? (1 pt)\n",
    "Hint: For action C, you will have to numerically integrate over possible observations ${c_{\\alpha}}$ using the step size ($dc_{\\alpha}$) you defined on your Gaussian observation distribution. "
   ]
  },
  {
   "cell_type": "code",
   "execution_count": 18,
   "id": "b7e8a7d6",
   "metadata": {},
   "outputs": [],
   "source": [
    "# INSERT CODE BELOW\n",
    "'''def find_int(alpha_values, c_alpha): #Trapezoidal rule\n",
    "    if not isinstance(alpha_values, np.ndarray):\n",
    "        raise TypeError(\"Not an np.ndarray\")\n",
    "    if not isinstance(c_alpha, np.ndarray):\n",
    "        raise TypeError(\"Not an np.ndarray\")\n",
    "    func = alpha_values * norm.pdf(c_alpha,u1,stdev)\n",
    "    integral1 = 0.5 * (func[0] + func[-1]) \n",
    "    for i in range(len(alpha_values)):\n",
    "        integral1 += alpha_values[i]\n",
    "    integral1 *= 0.5\n",
    "    func2 = alpha_values * norm.pdf(c_alpha,u2,stdev)\n",
    "    integral2 = 0.5 * (func2[0] + func2[-1]) \n",
    "    for i in range(len(alpha_values)):\n",
    "        integral2 += alpha_values[i]\n",
    "    integral2 *= 0.5\n",
    "    return integral1, integral2'''\n",
    "\n",
    "def action_values_beta(punishment, belief1, belief2,alpha_values,c_alpha):\n",
    "    q_left = belief1\n",
    "    q_right = belief2\n",
    "    V = np.zeros(len(obs_1))\n",
    "    for indices in range(len(obs_1)):\n",
    "        for indices2 in range(len(c_alpha)):\n",
    "            V[indices] += 0.5 * values_alpha[indices,indices2] * ( belief1[indices] * norm.pdf(c_alpha[indices2],u1,stdev) + belief2[indices] * norm.pdf(c_alpha[indices2],u2,stdev) )\n",
    "                                                                  \n",
    "    q_c = punishment + V\n",
    "    return q_left, q_right, q_c"
   ]
  },
  {
   "cell_type": "code",
   "execution_count": 19,
   "id": "77cdb607",
   "metadata": {},
   "outputs": [],
   "source": [
    "q_c = np.zeros(len(obs_1))\n",
    "q_left, q_right, q_c = action_values_beta(punishment,b_states_1, b_states_2, values_alpha, obs_1 )\n",
    "best_immediate_q = np.zeros(np.shape(q_left))\n",
    "for indices in range(len(best_immediate_q)):\n",
    "    best_immediate_q[indices] = np.max([q_left[indices],q_right[indices]])\n",
    "diff = q_c - best_immediate_q \n",
    "equal_p = np.where(diff>0)"
   ]
  },
  {
   "cell_type": "code",
   "execution_count": 22,
   "id": "a1df9829",
   "metadata": {},
   "outputs": [
    {
     "data": {
      "text/plain": [
       "<matplotlib.legend.Legend at 0x1a942289a90>"
      ]
     },
     "execution_count": 22,
     "metadata": {},
     "output_type": "execute_result"
    },
    {
     "data": {
      "image/png": "[encoded data removed]",
      "text/plain": [
       "<Figure size 400x400 with 1 Axes>"
      ]
     },
     "metadata": {},
     "output_type": "display_data"
    }
   ],
   "source": [
    "plt.figure(figsize=(4,4))\n",
    "plt.plot(obs_1,q_c, label=\"wait\")\n",
    "plt.plot(obs_1,best_immediate_q,\"--\", label=\"immediate\")\n",
    "plt.xlabel(\"Observation at beta\")\n",
    "plt.ylabel(\"Action values\")\n",
    "plt.legend()"
   ]
  },
  {
   "cell_type": "markdown",
   "id": "aaab5dc5",
   "metadata": {},
   "source": [
    "INSERT ANSWER BELOW"
   ]
  },
  {
   "cell_type": "markdown",
   "id": "4be01604",
   "metadata": {},
   "source": [
    "When q_c is larger than the best of either q_left or q_right (q_immediate), it is better to wait for one more observation"
   ]
  },
  {
   "cell_type": "markdown",
   "id": "ea322104",
   "metadata": {},
   "source": [
    "### 2f. What will reduce (or increase) the range of observations at $\\beta$ where it is best to choose to wait for another observation (choosing C)? Can you tweak a parameter to do this and produce a plot similar to Fig 9E to show this? (2 pts)\n",
    "Hint: You will have to re-run the steps with this changed parameter. "
   ]
  },
  {
   "cell_type": "code",
   "execution_count": 23,
   "id": "54a932a0",
   "metadata": {},
   "outputs": [],
   "source": [
    "# INSERT CODE BELOW\n",
    "q_c = np.zeros(len(obs_1))\n",
    "q_left, q_right, q_c = action_values_beta(-0.2,b_states_1, b_states_2, values_alpha, obs_1 )\n",
    "best_immediate_q = np.zeros(np.shape(q_left))\n",
    "for indices in range(len(best_immediate_q)):\n",
    "    best_immediate_q[indices] = np.max([q_left[indices],q_right[indices]])\n",
    "diff = q_c - best_immediate_q \n",
    "equal_p = np.where(diff>0)"
   ]
  },
  {
   "cell_type": "code",
   "execution_count": 24,
   "id": "302d6854",
   "metadata": {},
   "outputs": [
    {
     "data": {
      "text/plain": [
       "[<matplotlib.lines.Line2D at 0x1a9422b6dc0>]"
      ]
     },
     "execution_count": 24,
     "metadata": {},
     "output_type": "execute_result"
    },
    {
     "data": {
      "image/png": "[encoded data removed]",
      "text/plain": [
       "<Figure size 400x400 with 1 Axes>"
      ]
     },
     "metadata": {},
     "output_type": "display_data"
    }
   ],
   "source": [
    "plt.figure(figsize=(4,4))\n",
    "plt.plot(q_c)\n",
    "plt.plot(best_immediate_q,\"--\")\n"
   ]
  },
  {
   "cell_type": "markdown",
   "id": "84ff6fd6",
   "metadata": {},
   "source": [
    "INSERT ANSWER BELOW"
   ]
  },
  {
   "cell_type": "markdown",
   "id": "77293664",
   "metadata": {},
   "source": [
    "Increasing the punishment will decrease the range of observations to wait. The plot is basically shifted downwards. The distributions themselves (mean, standard deviation) will affect the range of observations where it is best to wait. By increasing the standard deviation, the overlap between the distributions increase and therefore options become less clear, increasing the range of observations to wait."
   ]
  }
 ],
 "metadata": {
  "kernelspec": {
   "display_name": "Python 3 (ipykernel)",
   "language": "python",
   "name": "python3"
  },
  "language_info": {
   "codemirror_mode": {
    "name": "ipython",
    "version": 3
   },
   "file_extension": ".py",
   "mimetype": "text/x-python",
   "name": "python",
   "nbconvert_exporter": "python",
   "pygments_lexer": "ipython3",
   "version": "3.9.18"
  }
 },
 "nbformat": 4,
 "nbformat_minor": 5
}
